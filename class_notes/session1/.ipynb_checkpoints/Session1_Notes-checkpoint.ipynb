{
 "cells": [
  {
   "cell_type": "markdown",
   "metadata": {},
   "source": [
    "# Notes for The First Session of Python200"
   ]
  },
  {
   "cell_type": "markdown",
   "metadata": {},
   "source": [
    "Playing with sockets"
   ]
  },
  {
   "cell_type": "code",
   "execution_count": 1,
   "metadata": {
    "collapsed": false
   },
   "outputs": [
    {
     "data": {
      "text/plain": [
       "22"
      ]
     },
     "execution_count": 1,
     "metadata": {},
     "output_type": "execute_result"
    }
   ],
   "source": [
    "import socket\n",
    "\n",
    "socket.getservbyname('ssh')"
   ]
  },
  {
   "cell_type": "code",
   "execution_count": 2,
   "metadata": {
    "collapsed": false
   },
   "outputs": [
    {
     "data": {
      "text/plain": [
       "80"
      ]
     },
     "execution_count": 2,
     "metadata": {},
     "output_type": "execute_result"
    }
   ],
   "source": [
    "socket.getservbyname('http')"
   ]
  },
  {
   "cell_type": "code",
   "execution_count": 3,
   "metadata": {
    "collapsed": false
   },
   "outputs": [
    {
     "data": {
      "text/plain": [
       "'HAL'"
      ]
     },
     "execution_count": 3,
     "metadata": {},
     "output_type": "execute_result"
    }
   ],
   "source": [
    "socket.gethostname()"
   ]
  },
  {
   "cell_type": "markdown",
   "metadata": {},
   "source": [
    "Shows what ports are used for different process"
   ]
  },
  {
   "cell_type": "code",
   "execution_count": 4,
   "metadata": {
    "collapsed": false
   },
   "outputs": [
    {
     "data": {
      "text/plain": [
       "'127.0.1.1'"
      ]
     },
     "execution_count": 4,
     "metadata": {},
     "output_type": "execute_result"
    }
   ],
   "source": [
    "socket.gethostbyname('HAL')"
   ]
  },
  {
   "cell_type": "code",
   "execution_count": 5,
   "metadata": {
    "collapsed": false
   },
   "outputs": [
    {
     "data": {
      "text/plain": [
       "'216.58.193.78'"
      ]
     },
     "execution_count": 5,
     "metadata": {},
     "output_type": "execute_result"
    }
   ],
   "source": [
    "socket.gethostbyname('google.com')"
   ]
  },
  {
   "cell_type": "code",
   "execution_count": 7,
   "metadata": {
    "collapsed": false
   },
   "outputs": [
    {
     "data": {
      "text/plain": [
       "('google.com', [], ['216.58.193.78'])"
      ]
     },
     "execution_count": 7,
     "metadata": {},
     "output_type": "execute_result"
    }
   ],
   "source": [
    "socket.gethostbyname_ex('google.com')"
   ]
  },
  {
   "cell_type": "code",
   "execution_count": 9,
   "metadata": {
    "collapsed": false
   },
   "outputs": [
    {
     "data": {
      "text/plain": [
       "'198.41.209.142'"
      ]
     },
     "execution_count": 9,
     "metadata": {},
     "output_type": "execute_result"
    }
   ],
   "source": [
    "socket.gethostbyname('reddit.com')"
   ]
  },
  {
   "cell_type": "markdown",
   "metadata": {},
   "source": [
    "Get IP of reddit"
   ]
  },
  {
   "cell_type": "code",
   "execution_count": 10,
   "metadata": {
    "collapsed": true
   },
   "outputs": [],
   "source": [
    "foo = socket.socket()"
   ]
  },
  {
   "cell_type": "code",
   "execution_count": 11,
   "metadata": {
    "collapsed": false
   },
   "outputs": [
    {
     "data": {
      "text/plain": [
       "<socket.socket fd=44, family=AddressFamily.AF_INET, type=SocketKind.SOCK_STREAM, proto=0, laddr=('0.0.0.0', 0)>"
      ]
     },
     "execution_count": 11,
     "metadata": {},
     "output_type": "execute_result"
    }
   ],
   "source": [
    "foo"
   ]
  },
  {
   "cell_type": "markdown",
   "metadata": {},
   "source": [
    "## Representations at the REPL"
   ]
  },
  {
   "cell_type": "code",
   "execution_count": 14,
   "metadata": {
    "collapsed": false
   },
   "outputs": [
    {
     "data": {
      "text/plain": [
       "<__main__.MyNumberWrapper at 0x7f6148f08668>"
      ]
     },
     "execution_count": 14,
     "metadata": {},
     "output_type": "execute_result"
    }
   ],
   "source": [
    "class MyNumberWrapper:\n",
    "    def __init__(self, number):\n",
    "        self.number = number\n",
    "        \n",
    "bar = MyNumberWrapper(5)\n",
    "\n",
    "bar"
   ]
  },
  {
   "cell_type": "code",
   "execution_count": 17,
   "metadata": {
    "collapsed": false
   },
   "outputs": [
    {
     "data": {
      "text/plain": [
       "MyNumberWrapper2([number])"
      ]
     },
     "execution_count": 17,
     "metadata": {},
     "output_type": "execute_result"
    }
   ],
   "source": [
    "class MyNumberWrapper2(MyNumberWrapper):\n",
    "    def __repr__(self):\n",
    "        return 'MyNumberWrapper2([number])'.format(number=self.number)\n",
    "    \n",
    "baz = MyNumberWrapper2(5)\n",
    "\n",
    "baz"
   ]
  },
  {
   "cell_type": "markdown",
   "metadata": {},
   "source": [
    "## Back to Sockets"
   ]
  },
  {
   "cell_type": "code",
   "execution_count": 18,
   "metadata": {
    "collapsed": false
   },
   "outputs": [
    {
     "data": {
      "text/plain": [
       "<AddressFamily.AF_INET: 2>"
      ]
     },
     "execution_count": 18,
     "metadata": {},
     "output_type": "execute_result"
    }
   ],
   "source": [
    "foo.family"
   ]
  },
  {
   "cell_type": "code",
   "execution_count": 19,
   "metadata": {
    "collapsed": false
   },
   "outputs": [
    {
     "data": {
      "text/plain": [
       "<SocketKind.SOCK_STREAM: 1>"
      ]
     },
     "execution_count": 19,
     "metadata": {},
     "output_type": "execute_result"
    }
   ],
   "source": [
    "foo.type"
   ]
  },
  {
   "cell_type": "code",
   "execution_count": 21,
   "metadata": {
    "collapsed": false
   },
   "outputs": [],
   "source": [
    "def get_constants(prefix):\n",
    "    \"\"\"Filter mapping of socket module constants to their names\"\"\"\n",
    "    return {\n",
    "        getattr(socket, name): name\n",
    "        for name in dir(socket) if name.startswith(prefix)        \n",
    "    }"
   ]
  },
  {
   "cell_type": "code",
   "execution_count": 22,
   "metadata": {
    "collapsed": false
   },
   "outputs": [
    {
     "data": {
      "text/plain": [
       "True"
      ]
     },
     "execution_count": 22,
     "metadata": {},
     "output_type": "execute_result"
    }
   ],
   "source": [
    "\"example\".startswith('e')"
   ]
  },
  {
   "cell_type": "code",
   "execution_count": 23,
   "metadata": {
    "collapsed": true
   },
   "outputs": [],
   "source": [
    "families = get_constants('AF')"
   ]
  },
  {
   "cell_type": "code",
   "execution_count": 24,
   "metadata": {
    "collapsed": false
   },
   "outputs": [
    {
     "data": {
      "text/plain": [
       "{<AddressFamily.AF_UNSPEC: 0>: 'AF_UNSPEC',\n",
       " <AddressFamily.AF_UNIX: 1>: 'AF_UNIX',\n",
       " <AddressFamily.AF_INET: 2>: 'AF_INET',\n",
       " <AddressFamily.AF_AX25: 3>: 'AF_AX25',\n",
       " <AddressFamily.AF_IPX: 4>: 'AF_IPX',\n",
       " <AddressFamily.AF_APPLETALK: 5>: 'AF_APPLETALK',\n",
       " <AddressFamily.AF_NETROM: 6>: 'AF_NETROM',\n",
       " <AddressFamily.AF_BRIDGE: 7>: 'AF_BRIDGE',\n",
       " <AddressFamily.AF_ATMPVC: 8>: 'AF_ATMPVC',\n",
       " <AddressFamily.AF_X25: 9>: 'AF_X25',\n",
       " <AddressFamily.AF_INET6: 10>: 'AF_INET6',\n",
       " <AddressFamily.AF_ROSE: 11>: 'AF_ROSE',\n",
       " 12: 'AF_DECnet',\n",
       " <AddressFamily.AF_NETBEUI: 13>: 'AF_NETBEUI',\n",
       " <AddressFamily.AF_SECURITY: 14>: 'AF_SECURITY',\n",
       " <AddressFamily.AF_KEY: 15>: 'AF_KEY',\n",
       " <AddressFamily.AF_ROUTE: 16>: 'AF_ROUTE',\n",
       " <AddressFamily.AF_PACKET: 17>: 'AF_PACKET',\n",
       " <AddressFamily.AF_ASH: 18>: 'AF_ASH',\n",
       " <AddressFamily.AF_ECONET: 19>: 'AF_ECONET',\n",
       " <AddressFamily.AF_ATMSVC: 20>: 'AF_ATMSVC',\n",
       " <AddressFamily.AF_RDS: 21>: 'AF_RDS',\n",
       " <AddressFamily.AF_SNA: 22>: 'AF_SNA',\n",
       " <AddressFamily.AF_IRDA: 23>: 'AF_IRDA',\n",
       " <AddressFamily.AF_PPPOX: 24>: 'AF_PPPOX',\n",
       " <AddressFamily.AF_WANPIPE: 25>: 'AF_WANPIPE',\n",
       " <AddressFamily.AF_LLC: 26>: 'AF_LLC',\n",
       " <AddressFamily.AF_CAN: 29>: 'AF_CAN',\n",
       " <AddressFamily.AF_TIPC: 30>: 'AF_TIPC',\n",
       " <AddressFamily.AF_BLUETOOTH: 31>: 'AF_BLUETOOTH'}"
      ]
     },
     "execution_count": 24,
     "metadata": {},
     "output_type": "execute_result"
    }
   ],
   "source": [
    "families"
   ]
  },
  {
   "cell_type": "code",
   "execution_count": 25,
   "metadata": {
    "collapsed": true
   },
   "outputs": [],
   "source": [
    "types = get_constants('SOCK')\n",
    "#tcp protocols"
   ]
  },
  {
   "cell_type": "code",
   "execution_count": 26,
   "metadata": {
    "collapsed": false
   },
   "outputs": [
    {
     "data": {
      "text/plain": [
       "{<SocketKind.SOCK_STREAM: 1>: 'SOCK_STREAM',\n",
       " <SocketKind.SOCK_DGRAM: 2>: 'SOCK_DGRAM',\n",
       " <SocketKind.SOCK_RAW: 3>: 'SOCK_RAW',\n",
       " <SocketKind.SOCK_RDM: 4>: 'SOCK_RDM',\n",
       " <SocketKind.SOCK_SEQPACKET: 5>: 'SOCK_SEQPACKET',\n",
       " <SocketKind.SOCK_NONBLOCK: 2048>: 'SOCK_NONBLOCK',\n",
       " <SocketKind.SOCK_CLOEXEC: 524288>: 'SOCK_CLOEXEC'}"
      ]
     },
     "execution_count": 26,
     "metadata": {},
     "output_type": "execute_result"
    }
   ],
   "source": [
    "types"
   ]
  },
  {
   "cell_type": "code",
   "execution_count": 27,
   "metadata": {
    "collapsed": true
   },
   "outputs": [],
   "source": [
    "protocols = get_constants('IPPROTO')"
   ]
  },
  {
   "cell_type": "code",
   "execution_count": 28,
   "metadata": {
    "collapsed": false
   },
   "outputs": [
    {
     "data": {
      "text/plain": [
       "{0: 'IPPROTO_IP',\n",
       " 1: 'IPPROTO_ICMP',\n",
       " 2: 'IPPROTO_IGMP',\n",
       " 4: 'IPPROTO_IPIP',\n",
       " 6: 'IPPROTO_TCP',\n",
       " 8: 'IPPROTO_EGP',\n",
       " 12: 'IPPROTO_PUP',\n",
       " 17: 'IPPROTO_UDP',\n",
       " 22: 'IPPROTO_IDP',\n",
       " 29: 'IPPROTO_TP',\n",
       " 41: 'IPPROTO_IPV6',\n",
       " 43: 'IPPROTO_ROUTING',\n",
       " 44: 'IPPROTO_FRAGMENT',\n",
       " 46: 'IPPROTO_RSVP',\n",
       " 47: 'IPPROTO_GRE',\n",
       " 50: 'IPPROTO_ESP',\n",
       " 51: 'IPPROTO_AH',\n",
       " 58: 'IPPROTO_ICMPV6',\n",
       " 59: 'IPPROTO_NONE',\n",
       " 60: 'IPPROTO_DSTOPTS',\n",
       " 103: 'IPPROTO_PIM',\n",
       " 132: 'IPPROTO_SCTP',\n",
       " 255: 'IPPROTO_RAW'}"
      ]
     },
     "execution_count": 28,
     "metadata": {},
     "output_type": "execute_result"
    }
   ],
   "source": [
    "protocols"
   ]
  },
  {
   "cell_type": "markdown",
   "metadata": {},
   "source": [
    "## Address Info"
   ]
  },
  {
   "cell_type": "code",
   "execution_count": 29,
   "metadata": {
    "collapsed": false
   },
   "outputs": [
    {
     "data": {
      "text/plain": [
       "[(<AddressFamily.AF_INET: 2>,\n",
       "  <SocketKind.SOCK_STREAM: 1>,\n",
       "  6,\n",
       "  '',\n",
       "  ('216.58.193.78', 80)),\n",
       " (<AddressFamily.AF_INET: 2>,\n",
       "  <SocketKind.SOCK_DGRAM: 2>,\n",
       "  17,\n",
       "  '',\n",
       "  ('216.58.193.78', 80)),\n",
       " (<AddressFamily.AF_INET: 2>,\n",
       "  <SocketKind.SOCK_RAW: 3>,\n",
       "  0,\n",
       "  '',\n",
       "  ('216.58.193.78', 80)),\n",
       " (<AddressFamily.AF_INET6: 10>,\n",
       "  <SocketKind.SOCK_STREAM: 1>,\n",
       "  6,\n",
       "  '',\n",
       "  ('2607:f8b0:400a:800::200e', 80, 0, 0)),\n",
       " (<AddressFamily.AF_INET6: 10>,\n",
       "  <SocketKind.SOCK_DGRAM: 2>,\n",
       "  17,\n",
       "  '',\n",
       "  ('2607:f8b0:400a:800::200e', 80, 0, 0)),\n",
       " (<AddressFamily.AF_INET6: 10>,\n",
       "  <SocketKind.SOCK_RAW: 3>,\n",
       "  0,\n",
       "  '',\n",
       "  ('2607:f8b0:400a:800::200e', 80, 0, 0))]"
      ]
     },
     "execution_count": 29,
     "metadata": {},
     "output_type": "execute_result"
    }
   ],
   "source": [
    "socket.getaddrinfo('google.com', 80)"
   ]
  },
  {
   "cell_type": "markdown",
   "metadata": {},
   "source": [
    "## Construct Client Socket to Connect to Server"
   ]
  },
  {
   "cell_type": "code",
   "execution_count": 56,
   "metadata": {
    "collapsed": false
   },
   "outputs": [
    {
     "data": {
      "text/plain": [
       "[(<AddressFamily.AF_INET: 2>,\n",
       "  <SocketKind.SOCK_STREAM: 1>,\n",
       "  6,\n",
       "  '',\n",
       "  ('157.166.226.26', 80)),\n",
       " (<AddressFamily.AF_INET: 2>,\n",
       "  <SocketKind.SOCK_STREAM: 1>,\n",
       "  6,\n",
       "  '',\n",
       "  ('157.166.226.25', 80))]"
      ]
     },
     "execution_count": 56,
     "metadata": {},
     "output_type": "execute_result"
    }
   ],
   "source": [
    "streams = [\n",
    "    info for info in socket.getaddrinfo('cnn.com', 'http')\n",
    "    if info[1] == socket.SOCK_STREAM\n",
    "]\n",
    "\n",
    "streams"
   ]
  },
  {
   "cell_type": "code",
   "execution_count": 85,
   "metadata": {
    "collapsed": false
   },
   "outputs": [],
   "source": [
    "info = streams[0]"
   ]
  },
  {
   "cell_type": "code",
   "execution_count": 86,
   "metadata": {
    "collapsed": true
   },
   "outputs": [],
   "source": [
    "cnn_socket = socket.socket(*info[:3])"
   ]
  },
  {
   "cell_type": "code",
   "execution_count": 87,
   "metadata": {
    "collapsed": false
   },
   "outputs": [
    {
     "data": {
      "text/plain": [
       "<socket.socket fd=53, family=AddressFamily.AF_INET, type=SocketKind.SOCK_STREAM, proto=6, laddr=('0.0.0.0', 0)>"
      ]
     },
     "execution_count": 87,
     "metadata": {},
     "output_type": "execute_result"
    }
   ],
   "source": [
    "cnn_socket"
   ]
  },
  {
   "cell_type": "code",
   "execution_count": 88,
   "metadata": {
    "collapsed": false
   },
   "outputs": [
    {
     "data": {
      "text/plain": [
       "('157.166.226.26', 80)"
      ]
     },
     "execution_count": 88,
     "metadata": {},
     "output_type": "execute_result"
    }
   ],
   "source": [
    "info[-1]"
   ]
  },
  {
   "cell_type": "code",
   "execution_count": 89,
   "metadata": {
    "collapsed": false
   },
   "outputs": [],
   "source": [
    "cnn_socket.connect(info[-1])"
   ]
  },
  {
   "cell_type": "code",
   "execution_count": 90,
   "metadata": {
    "collapsed": false
   },
   "outputs": [
    {
     "data": {
      "text/plain": [
       "b'GET / HTTP/1.1\\r\\nHost: www.cnn.com\\r\\n\\r\\n'"
      ]
     },
     "execution_count": 90,
     "metadata": {},
     "output_type": "execute_result"
    }
   ],
   "source": [
    "msg = \"GET / HTTP/1.1\\r\\n\"\n",
    "msg += \"Host: www.cnn.com\\r\\n\\r\\n\"\n",
    "msg = msg.encode('utf8')\n",
    "msg"
   ]
  },
  {
   "cell_type": "code",
   "execution_count": 91,
   "metadata": {
    "collapsed": false
   },
   "outputs": [],
   "source": [
    "cnn_socket.sendall(msg)"
   ]
  },
  {
   "cell_type": "code",
   "execution_count": 92,
   "metadata": {
    "collapsed": false
   },
   "outputs": [],
   "source": [
    "response = cnn_socket.recv(4096)"
   ]
  },
  {
   "cell_type": "code",
   "execution_count": 93,
   "metadata": {
    "collapsed": false
   },
   "outputs": [
    {
     "data": {
      "text/plain": [
       "b'HTTP/1.1 200 OK\\r\\nServer: nginx\\r\\nDate: Fri, 01 Apr 2016 03:28:23 GMT\\r\\nContent-Type: text/html;charset=UTF-8\\r\\nTransfer-Encoding: chunked\\r\\nConnection: keep-alive\\r\\nSet-Cookie: CG=US:WA:Seattle; path=/\\r\\nExpires: Fri, 01 Apr 2016 03:28:44 GMT\\r\\nCache-Control: max-age=60, private\\r\\nVary: Accept-Encoding, User-Agent\\r\\nX-UA-Profile: desktop\\r\\n\\r\\n176c\\r\\n\\n<!DOCTYPE HTML>\\n<html lang=\"en-US\">\\n<head>\\n<title>CNN.com - Breaking News, U.S., World, Weather, Entertainment &amp; Video News</title>\\n<meta http-equiv=\"content-type\" content=\"text/html;charset=utf-8\"/>\\n<meta http-equiv=\"last-modified\" content=\"2015-01-03T15:26:48Z\"/>\\n<meta http-equiv=\"refresh\" content=\"1800;url=http://www.cnn.com/?refresh=1\"/>\\n<meta http-equiv=\"X-UA-Compatible\" content=\"IE=edge\"/>\\n<meta name=\"robots\" content=\"index,follow\"/>\\n<meta name=\"googlebot\" content=\"noarchive\"/>\\n<meta name=\"description\" content=\"CNN.com delivers the latest breaking news and information on the latest top stories, weather, business, entertainment, politics, and more. For in-depth coverage, CNN.com provides special reports, video, audio, photo galleries, and interactive guides.\"/>\\n<meta name=\"keywords\" content=\"CNN,CNN news,CNN.com,CNN TV,news,news online,breaking news,U.S. news,world news,weather,business,CNN Money,sports,politics,law,technology,entertainment,education,travel,health,special reports,autos,developing story,news video,CNN Intl\"/>\\n<meta name=\"application-name\" content=\"CNN\"/>\\n<meta name=\"msapplication-tooltip\" content=\"Breaking News, U.S., World, Weather, Entertainment and Video News\"/>\\n<meta name=\"msapplication-task\" content=\"name=News Pulse;action-uri=http://newspulse.cnn.com/;icon-uri=http://www.cnn.com/favicon.ie9.ico\"/>\\n<meta name=\"msapplication-task\" content=\"name=iReport;action-uri=http://ireport.cnn.com;icon-uri=http://ireport.cnn.com/favicon.ico\"/>\\n<meta name=\"viewport\" content=\"width=1024\"/>\\n<meta property=\"fb:app_id\" content=\"80401312489\"/>\\n<meta property=\"fb:page_id\" content=\"129343697106537\"/>\\n<meta name=\"msapplication-TileColor\" content=\"#CA0002\"/>\\n<meta name=\"msapplication-TileImage\" content=\"http://i.cdn.turner.com/cnn/2012/images/10/15/cnn_logo_144_144.png\"/>\\n<link href=\"http://www.cnn.com/\" rel=\"canonical\"/>\\n<link href=\"http://www.cnn.com/favicon.ie9.ico\" rel=\"Shortcut Icon\" type=\"image/x-icon\"/>\\n<link href=\"/tools/search/cnncom.xml\" rel=\"search\" title=\"CNN.com\" type=\"application/opensearchdescription+xml\"/>\\n<link href=\"/tools/search/cnncomvideo.xml\" rel=\"search\" title=\"CNN.com Video\" type=\"application/opensearchdescription+xml\"/>\\n<link href=\"http://i.cdn.turner.com/cnn/.e/img/3.0/global/misc/apple-touch-icon.png\" rel=\"apple-touch-icon\" type=\"image/png\"/>\\n<link href=\"http://rss.cnn.com/rss/cnn_topstories.rss\" rel=\"alternate\" title=\"CNN - Top Stories [RSS]\" type=\"application/rss+xml\"/>\\n<link href=\"http://rss.cnn.com/rss/cnn_latest.rss\" rel=\"alternate\" title=\"CNN - Recent Stories [RSS]\" type=\"application/rss+xml\"/>\\n<link href=\"http://edition.cnn.com\" hreflang=\"en-gb\" rel=\"alternate\" title=\"CNN International\" type=\"text/html\"/>\\n<link href=\"http://arabic.cnn.com\" hreflang=\"ar\" rel=\"alternate\" title=\"CNN Arabic\" type=\"text/html\"/>\\n<link href=\"http://mexico.cnn.com\" hreflang=\"es\" rel=\"alternate\" title=\"CNN Mexico\" type=\"text/html\"/>\\n<link href=\"https://plus.google.com/u/0/b/117515799321987910349/117515799321987910349/posts\" rel=\"publisher\"/>\\n<link href=\"http://z.cdn.turner.com/cnn/tmpl_asset/static/www_homepage/2990/css/hplib-min.css\" rel=\"stylesheet\" type=\"text/css\"/>\\n<link href=\"http://z.cdn.turner.com/cnn/tmpl_asset/static/www_homepage/2990/css/elexlib-min.css\" rel=\"stylesheet\" type=\"text/css\"/>\\n<!-- ClickTale Top part -->\\n<script type=\\'text/javascript\\'>\\ndocument.write(unescape(\"%3Cscript%20src=\\'\" +\\n(document.location.protocol == \\'https:\\' ?\\n\\'https://cdnssl.clicktale.net/\\' :\\n\\'http://cdn.clicktale.net/\\') +\\n\"www04/phc/342da402-a44b-4b59-aba4-8fc2310e4478.js\\'%20type=\\'text/javascript\\'%3E%3C/script%3E\"));\\n</script>\\n<!-- ClickTale end of Top part -->\\n<script src=\"http://z.cdn.turner.com/cnn/.e/js/libs/jquery-1.7.2.min.js\"></script>\\n<script src=\"http://z.cdn.turner.com/cnn/.e/'"
      ]
     },
     "execution_count": 93,
     "metadata": {},
     "output_type": "execute_result"
    }
   ],
   "source": [
    "response"
   ]
  },
  {
   "cell_type": "code",
   "execution_count": 94,
   "metadata": {
    "collapsed": false
   },
   "outputs": [],
   "source": [
    "cnn_socket.close()"
   ]
  },
  {
   "cell_type": "markdown",
   "metadata": {},
   "source": [
    "## Constructing a Server"
   ]
  },
  {
   "cell_type": "markdown",
   "metadata": {},
   "source": [
    "Set up a server in ipython notebook"
   ]
  },
  {
   "cell_type": "markdown",
   "metadata": {},
   "source": [
    "## Constructing a client socket"
   ]
  },
  {
   "cell_type": "code",
   "execution_count": 96,
   "metadata": {
    "collapsed": false
   },
   "outputs": [],
   "source": [
    "client_socket = socket.socket(\n",
    "socket.AF_INET,\n",
    "socket.SOCK_STREAM,\n",
    "socket.IPPROTO_IP,\n",
    ")"
   ]
  },
  {
   "cell_type": "code",
   "execution_count": 97,
   "metadata": {
    "collapsed": true
   },
   "outputs": [],
   "source": [
    "client_socket.connect(('127.0.0.1', 50000))"
   ]
  },
  {
   "cell_type": "code",
   "execution_count": 102,
   "metadata": {
    "collapsed": true
   },
   "outputs": [],
   "source": [
    "client_socket.sendall('Hey, can you hear me?'.encode('utf8'))"
   ]
  },
  {
   "cell_type": "code",
   "execution_count": 100,
   "metadata": {
    "collapsed": false
   },
   "outputs": [
    {
     "data": {
      "text/plain": [
       "b'Yes, I can hear you.'"
      ]
     },
     "execution_count": 100,
     "metadata": {},
     "output_type": "execute_result"
    }
   ],
   "source": [
    "client_socket.recv(4096)"
   ]
  },
  {
   "cell_type": "markdown",
   "metadata": {},
   "source": [
    "4096 is the buffer size - limits the amount of bytes returned"
   ]
  },
  {
   "cell_type": "code",
   "execution_count": null,
   "metadata": {
    "collapsed": true
   },
   "outputs": [],
   "source": []
  }
 ],
 "metadata": {
  "kernelspec": {
   "display_name": "Python 3",
   "language": "python",
   "name": "python3"
  },
  "language_info": {
   "codemirror_mode": {
    "name": "ipython",
    "version": 3
   },
   "file_extension": ".py",
   "mimetype": "text/x-python",
   "name": "python",
   "nbconvert_exporter": "python",
   "pygments_lexer": "ipython3",
   "version": "3.4.3"
  }
 },
 "nbformat": 4,
 "nbformat_minor": 0
}
